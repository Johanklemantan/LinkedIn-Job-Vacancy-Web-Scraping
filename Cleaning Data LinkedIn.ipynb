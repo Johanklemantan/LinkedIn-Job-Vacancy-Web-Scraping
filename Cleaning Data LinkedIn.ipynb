{
 "cells": [
  {
   "cell_type": "code",
   "execution_count": 1,
   "metadata": {},
   "outputs": [],
   "source": [
    "import pandas as pd\n",
    "import numpy as np\n",
    "import matplotlib.pyplot as plt\n",
    "import seaborn as sns"
   ]
  },
  {
   "cell_type": "markdown",
   "metadata": {},
   "source": [
    "#### open data sesuai nama file yang kalian save"
   ]
  },
  {
   "cell_type": "code",
   "execution_count": 2,
   "metadata": {},
   "outputs": [],
   "source": [
    "ds = pd.read_csv('Senior Data Scientist.csv')\n",
    "ds['keyword']=['Senior Data Scientist / Data Scientist']*len(ds)\n"
   ]
  },
  {
   "cell_type": "code",
   "execution_count": 3,
   "metadata": {},
   "outputs": [],
   "source": [
    "da = pd.read_csv('Senior Data Analyst.csv')\n",
    "da['keyword']=['Senior Data Analyst / Data Analyst']*len(da)"
   ]
  },
  {
   "cell_type": "code",
   "execution_count": 4,
   "metadata": {},
   "outputs": [],
   "source": [
    "de = pd.read_csv('Senior Data Engineer.csv')\n",
    "de['keyword']=['Senior Data Engineer / Data Engineer']*len(de)"
   ]
  },
  {
   "cell_type": "code",
   "execution_count": 5,
   "metadata": {},
   "outputs": [],
   "source": [
    "bi = pd.read_csv('Senior Business Intelligence.csv')\n",
    "bi['keyword']=['Senior Business Intelligence / Business Intelligence Analyst']*len(bi)"
   ]
  },
  {
   "cell_type": "code",
   "execution_count": 6,
   "metadata": {},
   "outputs": [],
   "source": [
    "full = pd.concat([de,ds,da,bi],ignore_index=True)\n",
    "full.to_csv('Academi_DE.csv',index=False)"
   ]
  },
  {
   "cell_type": "code",
   "execution_count": 7,
   "metadata": {},
   "outputs": [
    {
     "data": {
      "text/html": [
       "<div>\n",
       "<style scoped>\n",
       "    .dataframe tbody tr th:only-of-type {\n",
       "        vertical-align: middle;\n",
       "    }\n",
       "\n",
       "    .dataframe tbody tr th {\n",
       "        vertical-align: top;\n",
       "    }\n",
       "\n",
       "    .dataframe thead th {\n",
       "        text-align: right;\n",
       "    }\n",
       "</style>\n",
       "<table border=\"1\" class=\"dataframe\">\n",
       "  <thead>\n",
       "    <tr style=\"text-align: right;\">\n",
       "      <th></th>\n",
       "      <th>companyName</th>\n",
       "      <th>postedDate</th>\n",
       "      <th>careerLevel</th>\n",
       "      <th>sizeOfEmployee</th>\n",
       "      <th>companyIndustry</th>\n",
       "      <th>detailDescription</th>\n",
       "      <th>employmentType</th>\n",
       "      <th>jobFunction</th>\n",
       "      <th>keyword</th>\n",
       "    </tr>\n",
       "  </thead>\n",
       "  <tbody>\n",
       "    <tr>\n",
       "      <th>0</th>\n",
       "      <td>Hyphen Group</td>\n",
       "      <td>Posted 4 days ago</td>\n",
       "      <td>NaN</td>\n",
       "      <td>201-500 employees</td>\n",
       "      <td>Financial Services</td>\n",
       "      <td>THE ROLE      \\nIn an exciting, international ...</td>\n",
       "      <td>Full-time</td>\n",
       "      <td>Information Technology</td>\n",
       "      <td>Senior Data Engineer / Data Engineer</td>\n",
       "    </tr>\n",
       "    <tr>\n",
       "      <th>1</th>\n",
       "      <td>PT. Jasa Teknologi Informasi IBM</td>\n",
       "      <td>Posted 2 weeks ago</td>\n",
       "      <td>Associate</td>\n",
       "      <td>NaN</td>\n",
       "      <td>['Information Technology &amp; Services', 'Compute...</td>\n",
       "      <td>Create and maintain optimal data pipeline arch...</td>\n",
       "      <td>Full-time</td>\n",
       "      <td>Information Technology</td>\n",
       "      <td>Senior Data Engineer / Data Engineer</td>\n",
       "    </tr>\n",
       "    <tr>\n",
       "      <th>2</th>\n",
       "      <td>Asia Pulp &amp; Paper</td>\n",
       "      <td>Posted 1 week ago</td>\n",
       "      <td>Mid-Senior level</td>\n",
       "      <td>10001+ employees</td>\n",
       "      <td>Paper &amp; Forest Products</td>\n",
       "      <td>2nd</td>\n",
       "      <td>Full-time</td>\n",
       "      <td>['Information Technology', 'Business Developme...</td>\n",
       "      <td>Senior Data Engineer / Data Engineer</td>\n",
       "    </tr>\n",
       "    <tr>\n",
       "      <th>3</th>\n",
       "      <td>Xiaomi Indonesia</td>\n",
       "      <td>Posted 1 week ago</td>\n",
       "      <td>Associate</td>\n",
       "      <td>51-200 employees</td>\n",
       "      <td>Internet</td>\n",
       "      <td>2nd</td>\n",
       "      <td>Full-time</td>\n",
       "      <td>['Analyst', 'Engineering']</td>\n",
       "      <td>Senior Data Engineer / Data Engineer</td>\n",
       "    </tr>\n",
       "    <tr>\n",
       "      <th>4</th>\n",
       "      <td>5x</td>\n",
       "      <td>Posted 1 day ago</td>\n",
       "      <td>NaN</td>\n",
       "      <td>2-10 employees</td>\n",
       "      <td>NaN</td>\n",
       "      <td>Position: Data Engineer\\nBasic Salary: Higher ...</td>\n",
       "      <td>Full-time</td>\n",
       "      <td>NaN</td>\n",
       "      <td>Senior Data Engineer / Data Engineer</td>\n",
       "    </tr>\n",
       "    <tr>\n",
       "      <th>...</th>\n",
       "      <td>...</td>\n",
       "      <td>...</td>\n",
       "      <td>...</td>\n",
       "      <td>...</td>\n",
       "      <td>...</td>\n",
       "      <td>...</td>\n",
       "      <td>...</td>\n",
       "      <td>...</td>\n",
       "      <td>...</td>\n",
       "    </tr>\n",
       "    <tr>\n",
       "      <th>158</th>\n",
       "      <td>Gojek</td>\n",
       "      <td>Posted 1 week ago</td>\n",
       "      <td>Associate</td>\n",
       "      <td>1,001-5,000 employees</td>\n",
       "      <td>['Computer Software', 'Internet', 'Financial S...</td>\n",
       "      <td>About The Role\\n\\nWe'll cut to the chase and g...</td>\n",
       "      <td>Full-time</td>\n",
       "      <td>['Research', 'Analyst', 'Information Technology']</td>\n",
       "      <td>Senior Business Intelligence / Business Intell...</td>\n",
       "    </tr>\n",
       "    <tr>\n",
       "      <th>159</th>\n",
       "      <td>HappyFresh</td>\n",
       "      <td>Posted 2 months ago</td>\n",
       "      <td>Associate</td>\n",
       "      <td>201-500 employees</td>\n",
       "      <td>['Marketing &amp; Advertising', 'Computer Software...</td>\n",
       "      <td>HappyFresh is the fastest-growing online groce...</td>\n",
       "      <td>Full-time</td>\n",
       "      <td>['Research', 'Analyst', 'Information Technology']</td>\n",
       "      <td>Senior Business Intelligence / Business Intell...</td>\n",
       "    </tr>\n",
       "    <tr>\n",
       "      <th>160</th>\n",
       "      <td>BukuKas</td>\n",
       "      <td>Posted 1 week ago</td>\n",
       "      <td>Associate</td>\n",
       "      <td>NaN</td>\n",
       "      <td>NaN</td>\n",
       "      <td>What is BukuKas?\\n\\nBukuKas is a hyper fast gr...</td>\n",
       "      <td>Full-time</td>\n",
       "      <td>['Research', 'Analyst', 'Information Technology']</td>\n",
       "      <td>Senior Business Intelligence / Business Intell...</td>\n",
       "    </tr>\n",
       "    <tr>\n",
       "      <th>161</th>\n",
       "      <td>Vidio</td>\n",
       "      <td>Posted 2 months ago</td>\n",
       "      <td>Mid-Senior level</td>\n",
       "      <td>NaN</td>\n",
       "      <td>['Marketing &amp; Advertising', 'Online Media', 'I...</td>\n",
       "      <td>Job Requirements\\nAdvanced skills on Query Lan...</td>\n",
       "      <td>Full-time</td>\n",
       "      <td>['Research', 'Analyst', 'Information Technology']</td>\n",
       "      <td>Senior Business Intelligence / Business Intell...</td>\n",
       "    </tr>\n",
       "    <tr>\n",
       "      <th>162</th>\n",
       "      <td>Kelas Pintar</td>\n",
       "      <td>Posted 4 weeks ago</td>\n",
       "      <td>Mid-Senior level</td>\n",
       "      <td>NaN</td>\n",
       "      <td>['Marketing &amp; Advertising', 'Information Techn...</td>\n",
       "      <td>Supports and creates Business Intelligence pro...</td>\n",
       "      <td>Full-time</td>\n",
       "      <td>['Research', 'Analyst', 'Information Technology']</td>\n",
       "      <td>Senior Business Intelligence / Business Intell...</td>\n",
       "    </tr>\n",
       "  </tbody>\n",
       "</table>\n",
       "<p>163 rows × 9 columns</p>\n",
       "</div>"
      ],
      "text/plain": [
       "                          companyName           postedDate       careerLevel  \\\n",
       "0                        Hyphen Group    Posted 4 days ago               NaN   \n",
       "1    PT. Jasa Teknologi Informasi IBM   Posted 2 weeks ago         Associate   \n",
       "2                   Asia Pulp & Paper    Posted 1 week ago  Mid-Senior level   \n",
       "3                    Xiaomi Indonesia    Posted 1 week ago         Associate   \n",
       "4                                  5x     Posted 1 day ago               NaN   \n",
       "..                                ...                  ...               ...   \n",
       "158                             Gojek    Posted 1 week ago         Associate   \n",
       "159                        HappyFresh  Posted 2 months ago         Associate   \n",
       "160                           BukuKas    Posted 1 week ago         Associate   \n",
       "161                             Vidio  Posted 2 months ago  Mid-Senior level   \n",
       "162                      Kelas Pintar   Posted 4 weeks ago  Mid-Senior level   \n",
       "\n",
       "            sizeOfEmployee                                    companyIndustry  \\\n",
       "0        201-500 employees                                 Financial Services   \n",
       "1                      NaN  ['Information Technology & Services', 'Compute...   \n",
       "2         10001+ employees                            Paper & Forest Products   \n",
       "3         51-200 employees                                           Internet   \n",
       "4           2-10 employees                                                NaN   \n",
       "..                     ...                                                ...   \n",
       "158  1,001-5,000 employees  ['Computer Software', 'Internet', 'Financial S...   \n",
       "159      201-500 employees  ['Marketing & Advertising', 'Computer Software...   \n",
       "160                    NaN                                                NaN   \n",
       "161                    NaN  ['Marketing & Advertising', 'Online Media', 'I...   \n",
       "162                    NaN  ['Marketing & Advertising', 'Information Techn...   \n",
       "\n",
       "                                     detailDescription employmentType  \\\n",
       "0    THE ROLE      \\nIn an exciting, international ...      Full-time   \n",
       "1    Create and maintain optimal data pipeline arch...      Full-time   \n",
       "2                                                  2nd      Full-time   \n",
       "3                                                  2nd      Full-time   \n",
       "4    Position: Data Engineer\\nBasic Salary: Higher ...      Full-time   \n",
       "..                                                 ...            ...   \n",
       "158  About The Role\\n\\nWe'll cut to the chase and g...      Full-time   \n",
       "159  HappyFresh is the fastest-growing online groce...      Full-time   \n",
       "160  What is BukuKas?\\n\\nBukuKas is a hyper fast gr...      Full-time   \n",
       "161  Job Requirements\\nAdvanced skills on Query Lan...      Full-time   \n",
       "162  Supports and creates Business Intelligence pro...      Full-time   \n",
       "\n",
       "                                           jobFunction  \\\n",
       "0                               Information Technology   \n",
       "1                               Information Technology   \n",
       "2    ['Information Technology', 'Business Developme...   \n",
       "3                           ['Analyst', 'Engineering']   \n",
       "4                                                  NaN   \n",
       "..                                                 ...   \n",
       "158  ['Research', 'Analyst', 'Information Technology']   \n",
       "159  ['Research', 'Analyst', 'Information Technology']   \n",
       "160  ['Research', 'Analyst', 'Information Technology']   \n",
       "161  ['Research', 'Analyst', 'Information Technology']   \n",
       "162  ['Research', 'Analyst', 'Information Technology']   \n",
       "\n",
       "                                               keyword  \n",
       "0                 Senior Data Engineer / Data Engineer  \n",
       "1                 Senior Data Engineer / Data Engineer  \n",
       "2                 Senior Data Engineer / Data Engineer  \n",
       "3                 Senior Data Engineer / Data Engineer  \n",
       "4                 Senior Data Engineer / Data Engineer  \n",
       "..                                                 ...  \n",
       "158  Senior Business Intelligence / Business Intell...  \n",
       "159  Senior Business Intelligence / Business Intell...  \n",
       "160  Senior Business Intelligence / Business Intell...  \n",
       "161  Senior Business Intelligence / Business Intell...  \n",
       "162  Senior Business Intelligence / Business Intell...  \n",
       "\n",
       "[163 rows x 9 columns]"
      ]
     },
     "execution_count": 7,
     "metadata": {},
     "output_type": "execute_result"
    }
   ],
   "source": [
    "full"
   ]
  },
  {
   "cell_type": "code",
   "execution_count": 17,
   "metadata": {},
   "outputs": [],
   "source": [
    "visualisasi = full.drop(['companyIndustry','detailDescription','jobFunction'],axis=1)"
   ]
  },
  {
   "cell_type": "code",
   "execution_count": 21,
   "metadata": {},
   "outputs": [],
   "source": [
    "visualisasi['posted']=['a']*len(visualisasi)"
   ]
  },
  {
   "cell_type": "code",
   "execution_count": 22,
   "metadata": {},
   "outputs": [],
   "source": [
    "visualisasi.loc[visualisasi['postedDate']=='Posted 4 days ago','posted']='less than 1 week'\n",
    "visualisasi.loc[visualisasi['postedDate']=='Posted 2 weeks ago','posted']='more than 1 week'\n",
    "visualisasi.loc[visualisasi['postedDate']=='Posted 1 week ago','posted']='less than 1 week'\n",
    "visualisasi.loc[visualisasi['postedDate']=='Posted 1 day ago','posted']='less than 1 week'\n",
    "visualisasi.loc[visualisasi['postedDate']=='Posted 3 days ago','posted']='less than 1 week'\n",
    "visualisasi.loc[visualisasi['postedDate']=='Posted 9 hours ago','posted']='less than 1 day'\n",
    "visualisasi.loc[visualisasi['postedDate']=='Posted 4 weeks ago','posted']='more than 1 week'\n",
    "visualisasi.loc[visualisasi['postedDate']=='Posted 1 month ago','posted']='more than 1 week'\n",
    "visualisasi.loc[visualisasi['postedDate']=='Posted 6 hours ago','posted']='less than 1 day'\n",
    "visualisasi.loc[visualisasi['postedDate']=='Posted 2 months ago','posted']='more than 1 month'\n",
    "visualisasi.loc[visualisasi['postedDate']=='Posted 3 months ago','posted']='more than 1 month'\n",
    "visualisasi.loc[visualisasi['postedDate']=='Posted 3 weeks ago','posted']='less than 1 month'\n",
    "visualisasi.loc[visualisasi['postedDate']=='Posted 6 days ago','posted']='less than 1 week'\n",
    "visualisasi.loc[visualisasi['postedDate']=='Posted 2 days ago','posted']='less than 1 week'\n",
    "visualisasi.loc[visualisasi['postedDate']=='Posted 4 months ago','posted']='more than 1 month'\n",
    "visualisasi.loc[visualisasi['postedDate']=='Posted 15 hours ago','posted']='less than 1 day'\n"
   ]
  },
  {
   "cell_type": "code",
   "execution_count": 23,
   "metadata": {},
   "outputs": [],
   "source": [
    "visualisasi['sizeOfEmployee']=visualisasi['sizeOfEmployee'].fillna('Unknown')"
   ]
  },
  {
   "cell_type": "code",
   "execution_count": 24,
   "metadata": {},
   "outputs": [],
   "source": [
    "visualisasi['sizeOfEmployee'] = visualisasi['sizeOfEmployee'].apply(lambda x: x.split(' ')[0])"
   ]
  },
  {
   "cell_type": "code",
   "execution_count": 25,
   "metadata": {},
   "outputs": [],
   "source": [
    "visualisasi['careerLevel']=visualisasi['careerLevel'].fillna('Unknown')"
   ]
  },
  {
   "cell_type": "code",
   "execution_count": 27,
   "metadata": {},
   "outputs": [],
   "source": [
    "visualisasi_df = visualisasi.drop(['postedDate'],axis=1)"
   ]
  },
  {
   "cell_type": "code",
   "execution_count": 29,
   "metadata": {},
   "outputs": [],
   "source": [
    "visualisasi_df.to_csv('visual1.csv',index=False)"
   ]
  }
 ],
 "metadata": {
  "kernelspec": {
   "display_name": "Python 3",
   "language": "python",
   "name": "python3"
  },
  "language_info": {
   "codemirror_mode": {
    "name": "ipython",
    "version": 3
   },
   "file_extension": ".py",
   "mimetype": "text/x-python",
   "name": "python",
   "nbconvert_exporter": "python",
   "pygments_lexer": "ipython3",
   "version": "3.8.3"
  }
 },
 "nbformat": 4,
 "nbformat_minor": 4
}
